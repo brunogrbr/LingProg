{
 "cells": [
  {
   "cell_type": "markdown",
   "metadata": {},
   "source": [
    "Crie a classe Linha que tem dois atributos, coordenada1 e coordenada2.\n",
    "Cada coordenada é uma tupla que carrega duas coordenadas cartesianas (x,y) que\n",
    "denotam pontos do segmento de reta. Faça métodos que calculem o comprimento\n",
    "do segmento de reta e sua inclinação.\n"
   ]
  },
  {
   "cell_type": "code",
   "execution_count": 30,
   "metadata": {},
   "outputs": [
    {
     "name": "stdout",
     "output_type": "stream",
     "text": [
      "O comprimento da reta é 2.449489742783178\n",
      "A inclinação da reta é 2.0\n"
     ]
    }
   ],
   "source": [
    "class Linha:\n",
    "    def __init__ (self, coord1, coord2):\n",
    "        self.coord1 = coord1\n",
    "        self.coord2 = coord2\n",
    "    def calcula_comprimento (self):\n",
    "        x = (self.coord2[0] - self.coord1[0])*2\n",
    "        y = (self.coord2[1] - self.coord1[1])*2\n",
    "        z = (x + y)**(1/2)\n",
    "        print(f'O comprimento da reta é {z}')\n",
    "        return 0\n",
    "    def calcula_inclinacao(self):\n",
    "        v1 = (self.coord2[1] - self.coord1[1])\n",
    "        v2 = (self.coord2[0] - self.coord1[0])\n",
    "        ang = v1/v2\n",
    "        print (f'A inclinação da reta é {ang}')\n",
    "        return 0\n",
    "l = Linha ((2,1), (3,3))\n",
    "\n",
    "l.calcula_comprimento();\n",
    "l.calcula_inclinacao();"
   ]
  },
  {
   "cell_type": "markdown",
   "metadata": {},
   "source": [
    " Crie a seguinte hierarquia de classes de figuras geométricas.\n",
    "a. A classe Figura deve ter o método area.\n",
    "b. A classe Circulo é subclasse de Figura.\n",
    "c. A classe Poligono é subclasse de Figura e deve ter os atributos base e altura .\n",
    "d. As classes Triangulo, Losango, Retangulo e Quadrado são subclasses de\n",
    "Poligono. Tente criar mais uma generalização aqui .\n",
    "e. Os polígonos Retangulo e Quadrado devem ter um meio de calcular sua\n",
    "diagonal. Use composição para isso.\n",
    "f. Crie uma classe Geometria com uma lista de Figuras com pelo menos uma\n",
    "figura de cada e imprima suas áreas."
   ]
  },
  {
   "cell_type": "code",
   "execution_count": 22,
   "metadata": {},
   "outputs": [
    {
     "data": {
      "text/plain": [
       "<bound method Geometria.vai of <__main__.Geometria object at 0x000000000512DEF0>>"
      ]
     },
     "execution_count": 22,
     "metadata": {},
     "output_type": "execute_result"
    }
   ],
   "source": [
    "import math\n",
    "class Figura:\n",
    "    def area():\n",
    "        pass\n",
    "class Circulo(Figura):\n",
    "    def __init__(self,raio=1):\n",
    "        self.raio = raio\n",
    "    def area(self):\n",
    "        aC = math.pi * (self.raio**2)\n",
    "        print(f'a area é {aC}')\n",
    "        return 0\n",
    "\n",
    "class Poligono(Figura):\n",
    "    def __init__(self, base, altura):\n",
    "        self.base = base\n",
    "        self.altura = altura\n",
    "\n",
    "class Triangulo(Poligono):\n",
    "    def area(self):\n",
    "        t = self.base*self.altura\n",
    "        aT = t/2\n",
    "        print(f'a area é {aT}')\n",
    "        return 0\n",
    "class Losango (Poligono):\n",
    "    def area(self):       \n",
    "        pass\n",
    "class Retangulo(Poligono):\n",
    "    def area(self):\n",
    "        aR = self.base*self.altura\n",
    "        print(f'a area é {aR}')\n",
    "        return 0\n",
    "class Quadrado (Poligono):\n",
    "    def area(self):\n",
    "        aQ = self.base*self.altura\n",
    "        print(f'a area é {aQ}')\n",
    "        return 0\n",
    "    \n",
    "t = Triangulo (4,5)\n",
    "c = Circulo (5)\n",
    "r = Retangulo (3,6)\n",
    "q = Quadrado (9,5)\n",
    "   \n",
    "\n",
    "class Geometria:\n",
    "    def vai(self):\n",
    "        lista = [Circulo(), Quadrado(), Retangulo()]\n",
    "        for f in lista:\n",
    "            print(f.area())\n",
    "            \n",
    "g = Geometria()\n",
    "g.vai\n",
    "c.area();"
   ]
  },
  {
   "cell_type": "code",
   "execution_count": null,
   "metadata": {},
   "outputs": [],
   "source": []
  },
  {
   "cell_type": "code",
   "execution_count": null,
   "metadata": {},
   "outputs": [],
   "source": []
  }
 ],
 "metadata": {
  "kernelspec": {
   "display_name": "Python 3",
   "language": "python",
   "name": "python3"
  },
  "language_info": {
   "codemirror_mode": {
    "name": "ipython",
    "version": 3
   },
   "file_extension": ".py",
   "mimetype": "text/x-python",
   "name": "python",
   "nbconvert_exporter": "python",
   "pygments_lexer": "ipython3",
   "version": "3.7.1"
  }
 },
 "nbformat": 4,
 "nbformat_minor": 2
}
