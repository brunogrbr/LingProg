{
 "cells": [
  {
   "cell_type": "markdown",
   "metadata": {},
   "source": [
    "Escreva uma função que receba uma string com duas palavras e retorne True se ambas palavras começarem com a mesma letra. "
   ]
  },
  {
   "cell_type": "code",
   "execution_count": 1,
   "metadata": {},
   "outputs": [
    {
     "name": "stdout",
     "output_type": "stream",
     "text": [
      "Digite a frase esse esse\n",
      "As letras iniciais são iguais\n"
     ]
    }
   ],
   "source": [
    "y = 0\n",
    "texto = input(\"Digite a frase \")\n",
    "for letra in texto:\n",
    "    if y == 1:\n",
    "        x = letra\n",
    "        y = 0\n",
    "        if letra == ' ':\n",
    "            y=1\n",
    "            x=letra\n",
    "if letra == texto[0]:\n",
    "    print(\"As letras iniciais são iguais\")\n",
    "else:\n",
    "    print(\"As letras são diferentes\")\n",
    "    "
   ]
  },
  {
   "cell_type": "markdown",
   "metadata": {},
   "source": [
    "Faça uma função que retorne True se, dada uma lista de inteiros, houver em alguma posição da lista um 3 do lado de outro 3."
   ]
  },
  {
   "cell_type": "code",
   "execution_count": 10,
   "metadata": {},
   "outputs": [],
   "source": [
    "y = 0\n",
    "my_list = [1, 2, 3]\n",
    "my_list2 = [3, 3, 2, 8]\n",
    "for item in my_list:\n",
    "    if y == 1:\n",
    "        x == item\n",
    "        y == 0    \n",
    "        if item == 3:\n",
    "            y=1\n",
    "            x=letra\n"
   ]
  },
  {
   "cell_type": "markdown",
   "metadata": {},
   "source": [
    "Escreva uma função que receba uma lista de inteiros e retorne True se contém um 007 em ordem, mesmo que não contínuo."
   ]
  },
  {
   "cell_type": "code",
   "execution_count": 9,
   "metadata": {},
   "outputs": [
    {
     "ename": "SyntaxError",
     "evalue": "unexpected EOF while parsing (<ipython-input-9-d526ae111ab6>, line 5)",
     "output_type": "error",
     "traceback": [
      "\u001b[1;36m  File \u001b[1;32m\"<ipython-input-9-d526ae111ab6>\"\u001b[1;36m, line \u001b[1;32m5\u001b[0m\n\u001b[1;33m    \u001b[0m\n\u001b[1;37m    ^\u001b[0m\n\u001b[1;31mSyntaxError\u001b[0m\u001b[1;31m:\u001b[0m unexpected EOF while parsing\n"
     ]
    }
   ],
   "source": [
    "lista = [0, 2, 0, 8, 7]\n",
    "lista2 = [0, 1, 2, 3 ,4, 5, 6, 7]\n",
    "for item in lista:\n",
    "    if item == 0:\n",
    "        \n",
    "        "
   ]
  },
  {
   "cell_type": "code",
   "execution_count": 38,
   "metadata": {},
   "outputs": [
    {
     "name": "stdout",
     "output_type": "stream",
     "text": [
      "<function espiao at 0x0000000004F136A8>\n"
     ]
    }
   ],
   "source": [
    "def espiao(arg):\n",
    "    \n",
    "    zero1 = False\n",
    "    zero2 = False\n",
    "    sete = False\n",
    "    for i in arg:\n",
    "        if i == 0:\n",
    "            if sete is False:\n",
    "                if zero1 is False and zero2 is False:\n",
    "                    zero1 = True\n",
    "                elif zero1 is True and zero2 is False:\n",
    "                    zero2 = True\n",
    "                else:\n",
    "                    return False\n",
    "            else:\n",
    "                return False\n",
    "        elif i == 7:\n",
    "            if zero1 is True and zero2 is True:\n",
    "                return True\n",
    "            else:\n",
    "                 return False\n",
    "lista = [0, 2, 0, 8, 7]\n",
    "lista2 = [0, 1, 2, 3 ,4, 5, 6, 7]\n",
    "print(espiao)"
   ]
  },
  {
   "cell_type": "code",
   "execution_count": null,
   "metadata": {},
   "outputs": [],
   "source": []
  }
 ],
 "metadata": {
  "kernelspec": {
   "display_name": "Python 3",
   "language": "python",
   "name": "python3"
  },
  "language_info": {
   "codemirror_mode": {
    "name": "ipython",
    "version": 3
   },
   "file_extension": ".py",
   "mimetype": "text/x-python",
   "name": "python",
   "nbconvert_exporter": "python",
   "pygments_lexer": "ipython3",
   "version": "3.7.1"
  }
 },
 "nbformat": 4,
 "nbformat_minor": 2
}
