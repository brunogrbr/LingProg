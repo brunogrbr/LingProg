{
 "cells": [
  {
   "cell_type": "markdown",
   "metadata": {},
   "source": [
    "1.Implemente um gerador infinito de números primos."
   ]
  },
  {
   "cell_type": "code",
   "execution_count": 1,
   "metadata": {},
   "outputs": [],
   "source": [
    "def gera_primos():\n",
    "    num = 1\n",
    "    while True:\n",
    "        if primo(num):\n",
    "            yield num\n",
    "        num += 1\n",
    "        \n",
    "def primo(num):\n",
    "    if (num == 1 or num == 2):\n",
    "        return True;\n",
    "    else:\n",
    "        for i in range(2, num):\n",
    "            if(num % i == 0):\n",
    "                return False\n",
    "        return True\n",
    "    \n",
    "g = gera_primos()\n",
    "i = 0\n",
    "while i < 10:\n",
    "    print(g.send(None))\n",
    "    i += 1"
   ]
  },
  {
   "cell_type": "markdown",
   "metadata": {},
   "source": [
    "2 Implementar um gerador que leia um arquivo e retorne uma lista de tuplas com os dados (o separador de campo do arquivo é virgula), eliminando as linhas vazias. Casoocorra algum problema, imprima uma mensagem de aviso e encerre o programa. Use o exemplo abaixo como arquivo de entrada:"
   ]
  },
  {
   "cell_type": "code",
   "execution_count": null,
   "metadata": {},
   "outputs": [],
   "source": [
    "def gera_tupla(nomeArquivo):\n",
    "    tuplas = []\n",
    "    conteudo = \"\"\n",
    "    arquivo = open(nomeArquivo)\n",
    "    linhaArquivo = arquivo.readline()\n",
    "    while linhaArquivo:\n",
    "        linha = linhaArquivo.split(\",\")\n",
    "        linha[len(linha) - 1] = linha[len(linha) - 1].strip()\n",
    "        for i in range(0, len(linha), 2):\n",
    "            tuplas.append((int(linha[i]), linha[i + 1]))\n",
    "        linhaArquivo = arquivo.readline()\n",
    "    arquivo.close()\n",
    "    yield tuplas;"
   ]
  },
  {
   "cell_type": "code",
   "execution_count": null,
   "metadata": {},
   "outputs": [],
   "source": [
    "saida = gera_tupla(\"teste.txt\").send(None)\n",
    "print(saida)"
   ]
  },
  {
   "cell_type": "code",
   "execution_count": null,
   "metadata": {},
   "outputs": [],
   "source": [
    "3 Implementar dois geradores e \n",
    "rodá-los em paralelo (coroutine) para processar doisarquivos e gerar tuplas. O primeiro é similar ao do exercício 2.\n",
    "O segundo processa outro arquivo, também separado por vírgulas. No final, a lista gerada deve conter tuplas com 3 elementos.\n",
    "Use o exemplo baixo como base:"
   ]
  },
  {
   "cell_type": "markdown",
   "metadata": {},
   "source": [
    "4 Escreva um generator que crie um fluxo infinito de inteiros a partir de um valor inicial dado com passo 5."
   ]
  },
  {
   "cell_type": "code",
   "execution_count": null,
   "metadata": {},
   "outputs": [],
   "source": [
    "def gera_inteiros(num):\n",
    "    ret = num + 5\n",
    "    yield ret\n",
    "    while True:\n",
    "        ret += 5\n",
    "        yield ret\n",
    "    \n",
    "g = gera_inteiros(7)\n",
    "i = 0\n",
    "while i < 10:\n",
    "    print(g.send(None))\n",
    "    i += 1"
   ]
  }
 ],
 "metadata": {
  "kernelspec": {
   "display_name": "Python 3",
   "language": "python",
   "name": "python3"
  },
  "language_info": {
   "codemirror_mode": {
    "name": "ipython",
    "version": 3
   },
   "file_extension": ".py",
   "mimetype": "text/x-python",
   "name": "python",
   "nbconvert_exporter": "python",
   "pygments_lexer": "ipython3",
   "version": "3.7.3"
  }
 },
 "nbformat": 4,
 "nbformat_minor": 2
}
