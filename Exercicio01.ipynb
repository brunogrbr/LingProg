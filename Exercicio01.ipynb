{
 "cells": [
  {
   "cell_type": "markdown",
   "metadata": {},
   "source": [
    " 01.Faça um Programa que peça o raio de um círculo, calcule e mostre sua área."
   ]
  },
  {
   "cell_type": "code",
   "execution_count": 3,
   "metadata": {},
   "outputs": [
    {
     "name": "stdout",
     "output_type": "stream",
     "text": [
      "Digite o raio5\n",
      "A área do círculo de raio 5 é 7.9e+01\n"
     ]
    }
   ],
   "source": [
    "import math\n",
    "raio = int(input (\"Digite o raio\"))\n",
    "#type (raio)\n",
    "area = math.pi * (raio ** 2)\n",
    "print (f'A área do círculo de raio {raio} é {area:{5}.{2}}')"
   ]
  },
  {
   "cell_type": "markdown",
   "metadata": {},
   "source": [
    "02.Faça um Programa que calcule a área de um quadrado, em seguida mostre o dobro desta área para o usuário."
   ]
  },
  {
   "cell_type": "code",
   "execution_count": 6,
   "metadata": {},
   "outputs": [
    {
     "name": "stdout",
     "output_type": "stream",
     "text": [
      "Digite o valor do lado5\n",
      "O dobro da area do quadrado de lado 5 é 50\n"
     ]
    }
   ],
   "source": [
    "lado = int(input(\"Digite o valor do lado\"))\n",
    "#type (lado)\n",
    "area = lado * lado\n",
    "mArea = area * 2\n",
    "print (f'O dobro da area do quadrado de lado {lado} é {mArea}')"
   ]
  },
  {
   "cell_type": "markdown",
   "metadata": {},
   "source": [
    "03 . Faça um Programa que pergunte quanto você ganha por hora e o número de horastrabalhadas no mês. Calcule e mostre o total do seu salário no referido mês."
   ]
  },
  {
   "cell_type": "code",
   "execution_count": null,
   "metadata": {},
   "outputs": [],
   "source": [
    "valor_hora = float (input (\"Digite o valor da hora\"))\n",
    "numero_horas = float (input (\"Digite a quantidade de horas trabalhadas\"))\n",
    "total = valor_hora * numero_horas\n",
    "print ('Com valor de hora %.2f e tendo trabalhado %.2f horas, você ganhará %.2f\\n' % (valor_hora, numero_horas, total))"
   ]
  },
  {
   "cell_type": "markdown",
   "metadata": {},
   "source": [
    "04.Faça um Programa que peça a temperatura em graus Farenheit, transforme e mostre a temperatura em graus Celsius. C = (5 * (F-32) / 9)."
   ]
  },
  {
   "cell_type": "code",
   "execution_count": 8,
   "metadata": {},
   "outputs": [
    {
     "name": "stdout",
     "output_type": "stream",
     "text": [
      "Digite a temperatura em Farenheit70\n",
      "A temperatura em Farenheit 70.0 será 21.11111111111111\n"
     ]
    }
   ],
   "source": [
    "tempF = float(input(\"Digite a temperatura em Farenheit\"))\n",
    "#type(tempF)\n",
    "tempC = (5*(tempF-32)/9)\n",
    "print(f'A temperatura em Farenheit {tempF} será {tempC}')"
   ]
  },
  {
   "cell_type": "markdown",
   "metadata": {},
   "source": [
    "05.Faça um Programa que peça a temperatura em graus Celsius, transforme e mostreem graus Farenheit."
   ]
  },
  {
   "cell_type": "code",
   "execution_count": 9,
   "metadata": {},
   "outputs": [
    {
     "name": "stdout",
     "output_type": "stream",
     "text": [
      "Digite a temperatura em Celsius21.1\n",
      "A temperatura em Celsius 21.1 será 69.98\n"
     ]
    }
   ],
   "source": [
    "tempC = float(input(\"Digite a temperatura em Celsius\"))\n",
    "#type(tempC)\n",
    "tempF = ((tempC * 9)/5)+32\n",
    "print(f'A temperatura em Celsius {tempC} será {tempF}')"
   ]
  },
  {
   "cell_type": "markdown",
   "metadata": {},
   "source": [
    "06.Faça um Programa que peça 2 números inteiros e um número real. Calcule e mostre:- o produto do dobro do primeiro com metade do segundo .- a soma do triplo do primeiro com o terceiro.- o terceiro elevado ao cubo."
   ]
  },
  {
   "cell_type": "code",
   "execution_count": 12,
   "metadata": {},
   "outputs": [
    {
     "name": "stdout",
     "output_type": "stream",
     "text": [
      "Digite o primeiro numero inteiro5\n",
      "Digite o segundo numero inteiro2\n",
      "Digite o terceiro numero real1.5\n",
      " o produto do dobro do primeiro com metade do segundo10.0,a soma do triplo do primeiro com o terceiro.16.5 , o terceiro elevado ao cubo.3.375\n"
     ]
    }
   ],
   "source": [
    "num1 = int(input(\"Digite o primeiro numero inteiro\"))\n",
    "num2 = int(input(\"Digite o segundo numero inteiro\"))\n",
    "numR = float(input(\"Digite o terceiro numero real\"))\n",
    "result1 = (num1*2)*(num2/2)\n",
    "result2 = (num1*3) + (numR)\n",
    "result3 = numR ** 3\n",
    "print(f' o produto do dobro do primeiro com metade do segundo {result1} ,a soma do triplo do primeiro com o terceiro. {result2} , o terceiro elevado ao cubo. {result3}')"
   ]
  },
  {
   "cell_type": "markdown",
   "metadata": {},
   "source": [
    "07.João Papo-de-Pescador, homem de bem, comprou um microcomputador para controlar o rendimento diário de seu trabalho. Toda vez que ele traz um peso de peixes maior que o estabelecido pelo regulamento de pesca do estado de São Paulo (50 quilos) deve pagar uma multa de R$ 4,00 por quilo excedente. João precisa que você faça um programa que leia a variável peso (peso de peixes) e verifique se há excesso. Se houver, gravar na variável excesso e na variável multa o valor da multa que João deverá pagar. Caso contrário mostrar tais variáveis com o conteúdo ZERO"
   ]
  },
  {
   "cell_type": "code",
   "execution_count": null,
   "metadata": {},
   "outputs": [],
   "source": [
    "peso_peixes = float (input (\"Digite o peso de peixes\"))\n",
    "excesso = 0\n",
    "multa = 0\n",
    "if peso_peixes > 50:\n",
    "    excesso = peso_peixes - 50\n",
    "    multa = 4 * excesso\n",
    "print ('Excesso: {}, Multa: {}'.format(excesso, multa))"
   ]
  },
  {
   "cell_type": "markdown",
   "metadata": {},
   "source": [
    "08.8 Faça um Programa que pergunte quanto você ganha por hora e o número de horastrabalhadas no mês. Calcule e mostre o total do seu salário no referido mês,sabendo-se que são descontados 11% para o Imposto de Renda, 8% para o INSS e 5%para o sindicato, faça um programa que nos dê:- salário bruto.- quanto pagou ao INSS.- quanto pagou ao sindicato.- o salário líquido.- calcule os descontos e o salário líquido, conforme a tabela abaixo:           + Salário Bruto : R$           - IR (11%) : R$           - INSS (8%) : R$           - Sindicato ( 5%) : R$           = Salário Liquido : R$Obs.: Salário Bruto - Descontos = Salário Líquido."
   ]
  },
  {
   "cell_type": "code",
   "execution_count": 16,
   "metadata": {},
   "outputs": [
    {
     "name": "stdout",
     "output_type": "stream",
     "text": [
      "Digite o valor ganho por hora50\n",
      "Digite as horas trabalhadas no mes50\n",
      "salario bruto 2500.0, IR 275.0, INSS 200.0, Sindicato 125.0, salario liquido 1900.0\n"
     ]
    }
   ],
   "source": [
    "ganho_hora = float(input(\"Digite o valor ganho por hora\"))\n",
    "horas_trabalhadas = float(input(\"Digite as horas trabalhadas no mes\"))\n",
    "salario = ganho_hora * horas_trabalhadas\n",
    "ir = salario * 0.11\n",
    "inss = salario * 0.08\n",
    "sind = salario * 0.05\n",
    "descontos = (ir + inss + sind)\n",
    "salLiquido = (salario - descontos)\n",
    "print(f'salario bruto {salario}, IR {ir}, INSS {inss}, Sindicato {sind}, salario liquido {salLiquido}' )"
   ]
  },
  {
   "cell_type": "markdown",
   "metadata": {},
   "source": [
    "09.Faça um programa que leia 2 strings e informe o conteúdo delas seguido do seucomprimento. Informe também se as duas strings possuem o mesmo comprimento esão iguais ou diferentes no conteúdo."
   ]
  },
  {
   "cell_type": "code",
   "execution_count": 30,
   "metadata": {},
   "outputs": [
    {
     "name": "stdout",
     "output_type": "stream",
     "text": [
      "Digite a primeira frase dasdadad\n",
      "Digite a segunda fase dasdasdsa\n",
      "tamanho de dasdadad\n"
     ]
    },
    {
     "data": {
      "text/plain": [
       "8"
      ]
     },
     "execution_count": 30,
     "metadata": {},
     "output_type": "execute_result"
    }
   ],
   "source": [
    "string1 = input(\"Digite a primeira frase \")\n",
    "string2 = input(\"Digite a segunda fase \")\n",
    "print(f'tamanho de {string1}')\n",
    "len(string1)\n",
    "print(f'tamanho de {string2}')\n",
    "len(string2)"
   ]
  },
  {
   "cell_type": "markdown",
   "metadata": {},
   "source": [
    "10 .Faça um programa que permita ao usuário digitar o seu nome e em seguidamostre o nome do usuário de trás para frente utilizando somente letras maiúsculas.Dica: lembre−se que ao informar o nome o usuário pode digitar letras maiúsculas ouminúsculas. Observação: não use loops."
   ]
  },
  {
   "cell_type": "code",
   "execution_count": 33,
   "metadata": {},
   "outputs": [
    {
     "name": "stdout",
     "output_type": "stream",
     "text": [
      "Digite seu nome BRUNO\n"
     ]
    },
    {
     "data": {
      "text/plain": [
       "'ONURB'"
      ]
     },
     "execution_count": 33,
     "metadata": {},
     "output_type": "execute_result"
    }
   ],
   "source": [
    "nome = input(\"Digite seu nome \")\n",
    "nome.upper()[::-1]"
   ]
  },
  {
   "cell_type": "code",
   "execution_count": null,
   "metadata": {},
   "outputs": [],
   "source": []
  }
 ],
 "metadata": {
  "kernelspec": {
   "display_name": "Python 3",
   "language": "python",
   "name": "python3"
  },
  "language_info": {
   "codemirror_mode": {
    "name": "ipython",
    "version": 3
   },
   "file_extension": ".py",
   "mimetype": "text/x-python",
   "name": "python",
   "nbconvert_exporter": "python",
   "pygments_lexer": "ipython3",
   "version": "3.7.1"
  }
 },
 "nbformat": 4,
 "nbformat_minor": 2
}
